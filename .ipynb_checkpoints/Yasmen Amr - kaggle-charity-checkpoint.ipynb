{
 "cells": [
  {
   "cell_type": "markdown",
   "metadata": {},
   "source": [
    "# Charity !\n",
    "\n",
    "In this assignment you will download the data from [this link](https://www.kaggle.com/c/udacity-mlcharity-competition/overview) and you will also submit the results on Kaggle ! \n",
    "\n",
    "for this submission you shall solve the problem in this notebook and also submit a solution on Kaggle, you shall submit this notebook and the link for your kernel on Kaggle.\n",
    "\n",
    "Also please share your submission score with us.\n",
    "\n",
    "<center><img src=\"https://upload.wikimedia.org/wikipedia/commons/7/7c/Kaggle_logo.png\"></center>\n"
   ]
  },
  {
   "cell_type": "code",
   "execution_count": 1,
   "metadata": {},
   "outputs": [],
   "source": [
    "# import first\n",
    "import pandas as pd\n",
    "import matplotlib.pyplot as plt\n",
    "import numpy as np\n",
    "import seaborn as sns\n",
    "# change the style from the very beging\n",
    "plt.style.use('ggplot')\n",
    "%matplotlib inline\n"
   ]
  },
  {
   "cell_type": "code",
   "execution_count": 2,
   "metadata": {},
   "outputs": [],
   "source": [
    "### First let's import our dataset and take a look to it."
   ]
  },
  {
   "cell_type": "code",
   "execution_count": null,
   "metadata": {},
   "outputs": [],
   "source": []
  }
 ],
 "metadata": {
  "kernelspec": {
   "display_name": "Python 3",
   "language": "python",
   "name": "python3"
  },
  "language_info": {
   "codemirror_mode": {
    "name": "ipython",
    "version": 3
   },
   "file_extension": ".py",
   "mimetype": "text/x-python",
   "name": "python",
   "nbconvert_exporter": "python",
   "pygments_lexer": "ipython3",
   "version": "3.7.4"
  }
 },
 "nbformat": 4,
 "nbformat_minor": 2
}
